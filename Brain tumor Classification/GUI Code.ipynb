{
 "cells": [
  {
   "cell_type": "code",
   "execution_count": 1,
   "id": "52e23fff",
   "metadata": {},
   "outputs": [
    {
     "name": "stdout",
     "output_type": "stream",
     "text": [
      "1/1 [==============================] - 0s 238ms/step\n",
      "1/1 [==============================] - 0s 47ms/step\n"
     ]
    }
   ],
   "source": [
    "import tkinter as tk\n",
    "from tkinter import filedialog\n",
    "from PIL import Image, ImageTk\n",
    "import numpy as np\n",
    "import tensorflow as tf\n",
    "import os\n",
    "\n",
    "# Load the model\n",
    "model = tf.keras.models.load_model('G:/BrainTumor.h5')\n",
    "\n",
    "# Map class indices to class names\n",
    "class_names = ['glioma_tumor','meningioma_tumor','no_tumor','pituitary_tumor']\n",
    "\n",
    "root = tk.Tk()\n",
    "root.title('MRI Dataset')\n",
    "\n",
    "# Increase the size of the GUI window\n",
    "root.geometry(\"600x400\")\n",
    "\n",
    "def classify_image():\n",
    "    file_path = filedialog.askopenfilename(filetypes=[(\"Image files\", \"*.jpg *.jpeg\")])\n",
    "    if file_path:\n",
    "        image = Image.open(file_path).convert(\"RGB\").resize((28, 28))\n",
    "        image_array = np.array(image) / 255.0\n",
    "        image_array = image_array.reshape(1, 28, 28, 3)\n",
    "\n",
    "        prediction = model.predict(image_array)\n",
    "        predicted_class_idx = np.argmax(prediction)\n",
    "        predicted_class_name = class_names[predicted_class_idx]\n",
    "\n",
    "        photo = ImageTk.PhotoImage(image=Image.fromarray((image_array[0] * 255).astype(np.uint8)))\n",
    "        image_label.config(image=photo)\n",
    "        image_label.image = photo\n",
    "        result_label.config(text=f'Predicted Class: {predicted_class_name}')\n",
    "\n",
    "open_button = tk.Button(root, text=\"Open Image\", command=classify_image)\n",
    "image_label = tk.Label(root)\n",
    "result_label = tk.Label(root, text=\"Predicted Class: \")\n",
    "\n",
    "open_button.pack(pady=20)\n",
    "image_label.pack()\n",
    "result_label.pack()\n",
    "\n",
    "root.mainloop()\n"
   ]
  },
  {
   "cell_type": "code",
   "execution_count": null,
   "id": "d9e0727f",
   "metadata": {},
   "outputs": [],
   "source": []
  }
 ],
 "metadata": {
  "kernelspec": {
   "display_name": "Python 3 (ipykernel)",
   "language": "python",
   "name": "python3"
  },
  "language_info": {
   "codemirror_mode": {
    "name": "ipython",
    "version": 3
   },
   "file_extension": ".py",
   "mimetype": "text/x-python",
   "name": "python",
   "nbconvert_exporter": "python",
   "pygments_lexer": "ipython3",
   "version": "3.11.3"
  }
 },
 "nbformat": 4,
 "nbformat_minor": 5
}
