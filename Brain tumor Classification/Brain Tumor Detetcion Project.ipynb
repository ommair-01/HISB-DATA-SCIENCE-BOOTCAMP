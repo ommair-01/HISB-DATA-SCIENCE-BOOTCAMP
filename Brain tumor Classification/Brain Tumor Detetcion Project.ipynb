{
 "cells": [
  {
   "cell_type": "markdown",
   "id": "cc69a63e",
   "metadata": {},
   "source": [
    "# Brain Tumor MRI Poject"
   ]
  },
  {
   "cell_type": "markdown",
   "id": "aba29482",
   "metadata": {},
   "source": [
    "**Importing Libraries**"
   ]
  },
  {
   "cell_type": "code",
   "execution_count": 1,
   "id": "cb8fa628",
   "metadata": {},
   "outputs": [],
   "source": [
    "import matplotlib.pyplot as plt\n",
    "import numpy as np\n",
    "import pandas as pd\n",
    "import seaborn as sns\n",
    "import cv2\n",
    "import tensorflow as tf\n",
    "from tensorflow.keras.preprocessing.image import ImageDataGenerator\n",
    "from tqdm import tqdm\n",
    "import os\n",
    "from sklearn.model_selection import train_test_split\n",
    "from PIL import Image\n",
    "import time"
   ]
  },
  {
   "cell_type": "markdown",
   "id": "0f192a16",
   "metadata": {},
   "source": [
    "## Loading Datasets"
   ]
  },
  {
   "cell_type": "code",
   "execution_count": 2,
   "id": "1e41a1ef",
   "metadata": {},
   "outputs": [],
   "source": [
    "categories = ['glioma_tumor','meningioma_tumor','no_tumor','pituitary_tumor']\n",
    "DATADIR='G:\\\\archive_5//Training'\n",
    "IMG_SIZE=28"
   ]
  },
  {
   "cell_type": "markdown",
   "id": "58b1e841",
   "metadata": {},
   "source": [
    "**Training Data**"
   ]
  },
  {
   "cell_type": "code",
   "execution_count": 3,
   "id": "ba48512a",
   "metadata": {},
   "outputs": [
    {
     "name": "stdout",
     "output_type": "stream",
     "text": [
      "G:\\archive_5//Training\\glioma_tumor\n"
     ]
    },
    {
     "name": "stderr",
     "output_type": "stream",
     "text": [
      "100%|███████████████████████████████████████████████████████████████████████████████| 826/826 [00:04<00:00, 201.28it/s]\n"
     ]
    },
    {
     "name": "stdout",
     "output_type": "stream",
     "text": [
      "G:\\archive_5//Training\\meningioma_tumor\n"
     ]
    },
    {
     "name": "stderr",
     "output_type": "stream",
     "text": [
      "100%|███████████████████████████████████████████████████████████████████████████████| 822/822 [00:03<00:00, 213.39it/s]\n"
     ]
    },
    {
     "name": "stdout",
     "output_type": "stream",
     "text": [
      "G:\\archive_5//Training\\no_tumor\n"
     ]
    },
    {
     "name": "stderr",
     "output_type": "stream",
     "text": [
      "100%|███████████████████████████████████████████████████████████████████████████████| 395/395 [00:01<00:00, 254.68it/s]\n"
     ]
    },
    {
     "name": "stdout",
     "output_type": "stream",
     "text": [
      "G:\\archive_5//Training\\pituitary_tumor\n"
     ]
    },
    {
     "name": "stderr",
     "output_type": "stream",
     "text": [
      "100%|███████████████████████████████████████████████████████████████████████████████| 827/827 [00:04<00:00, 184.58it/s]\n"
     ]
    }
   ],
   "source": [
    "from tqdm import tqdm\n",
    "data=[]\n",
    "def create_data():\n",
    "  for category in categories:\n",
    "    path=os.path.join(DATADIR,category)\n",
    "    class_num=categories.index(category)\n",
    "    print (path)\n",
    "    for img in tqdm(os.listdir(path)):\n",
    "      try:\n",
    "        img_array=cv2.imread(os.path.join(path,img))\n",
    "        new_array=cv2.resize(img_array,(IMG_SIZE,IMG_SIZE))\n",
    "        data.append([new_array, class_num])\n",
    "      except Exception as e:\n",
    "        pass\n",
    "create_data()\n"
   ]
  },
  {
   "cell_type": "code",
   "execution_count": 4,
   "id": "96cd9f99",
   "metadata": {},
   "outputs": [
    {
     "name": "stderr",
     "output_type": "stream",
     "text": [
      "100%|██████████████████████████████████████████████████████████████████████████████████████| 2870/2870 [00:00<?, ?it/s]\n"
     ]
    }
   ],
   "source": [
    "x_train=[]\n",
    "y_train=[]\n",
    "for features,labels in tqdm(data):\n",
    "    x_train.append(features)\n",
    "    y_train.append(labels)"
   ]
  },
  {
   "cell_type": "code",
   "execution_count": 29,
   "id": "e9cb7bf9",
   "metadata": {},
   "outputs": [],
   "source": [
    "x_train=np.array(x_train)\n",
    "y_train=np.array(y_train)"
   ]
  },
  {
   "cell_type": "code",
   "execution_count": 30,
   "id": "1d8858a3",
   "metadata": {},
   "outputs": [
    {
     "name": "stdout",
     "output_type": "stream",
     "text": [
      "(2870, 28, 28, 3) (2870,)\n"
     ]
    }
   ],
   "source": [
    "print (x_train.shape,y_train.shape)"
   ]
  },
  {
   "cell_type": "markdown",
   "id": "16c0b2fa",
   "metadata": {},
   "source": [
    "### Loading Testing Dataset"
   ]
  },
  {
   "cell_type": "code",
   "execution_count": 31,
   "id": "57903788",
   "metadata": {},
   "outputs": [],
   "source": [
    "categories = ['glioma_tumor','meningioma_tumor','no_tumor','pituitary_tumor']\n",
    "DATADIR='G:\\\\archive_5//Testing'"
   ]
  },
  {
   "cell_type": "code",
   "execution_count": 32,
   "id": "97e710bf",
   "metadata": {},
   "outputs": [
    {
     "name": "stdout",
     "output_type": "stream",
     "text": [
      "G:\\archive_5//Testing\\glioma_tumor\n"
     ]
    },
    {
     "name": "stderr",
     "output_type": "stream",
     "text": [
      "100%|███████████████████████████████████████████████████████████████████████████████| 100/100 [00:00<00:00, 231.31it/s]\n"
     ]
    },
    {
     "name": "stdout",
     "output_type": "stream",
     "text": [
      "G:\\archive_5//Testing\\meningioma_tumor\n"
     ]
    },
    {
     "name": "stderr",
     "output_type": "stream",
     "text": [
      "100%|███████████████████████████████████████████████████████████████████████████████| 115/115 [00:00<00:00, 310.92it/s]\n"
     ]
    },
    {
     "name": "stdout",
     "output_type": "stream",
     "text": [
      "G:\\archive_5//Testing\\no_tumor\n"
     ]
    },
    {
     "name": "stderr",
     "output_type": "stream",
     "text": [
      "100%|███████████████████████████████████████████████████████████████████████████████| 105/105 [00:00<00:00, 620.19it/s]\n"
     ]
    },
    {
     "name": "stdout",
     "output_type": "stream",
     "text": [
      "G:\\archive_5//Testing\\pituitary_tumor\n"
     ]
    },
    {
     "name": "stderr",
     "output_type": "stream",
     "text": [
      "100%|██████████████████████████████████████████████████████████████████████████████████| 74/74 [00:00<00:00, 87.19it/s]\n"
     ]
    }
   ],
   "source": [
    "from tqdm import tqdm\n",
    "test_data=[]\n",
    "def create_test_data():\n",
    "  for category in categories:\n",
    "    path=os.path.join(DATADIR,category)\n",
    "    class_num=categories.index(category)\n",
    "    print (path)\n",
    "    for img in tqdm(os.listdir(path)):\n",
    "      try:\n",
    "        img_array=cv2.imread(os.path.join(path,img))\n",
    "        new_array=cv2.resize(img_array,(IMG_SIZE,IMG_SIZE))\n",
    "        test_data.append([new_array, class_num])\n",
    "      except Exception as e:\n",
    "        pass\n",
    "create_test_data()"
   ]
  },
  {
   "cell_type": "code",
   "execution_count": 33,
   "id": "673af53b",
   "metadata": {},
   "outputs": [
    {
     "name": "stderr",
     "output_type": "stream",
     "text": [
      "100%|████████████████████████████████████████████████████████████████████████████████████████| 394/394 [00:00<?, ?it/s]\n"
     ]
    }
   ],
   "source": [
    "x_test=[]\n",
    "y_test=[]\n",
    "for features,labels in tqdm(test_data):\n",
    "    x_test.append(features)\n",
    "    y_test.append(labels)"
   ]
  },
  {
   "cell_type": "code",
   "execution_count": 34,
   "id": "f8e36c44",
   "metadata": {},
   "outputs": [],
   "source": [
    "x_test=np.array(x_test)\n",
    "y_test=np.array(y_test)"
   ]
  },
  {
   "cell_type": "code",
   "execution_count": 35,
   "id": "4994d017",
   "metadata": {},
   "outputs": [
    {
     "data": {
      "text/plain": [
       "(394, 28, 28, 3)"
      ]
     },
     "execution_count": 35,
     "metadata": {},
     "output_type": "execute_result"
    }
   ],
   "source": [
    "x_test.shape"
   ]
  },
  {
   "cell_type": "code",
   "execution_count": 36,
   "id": "7edc93ed",
   "metadata": {},
   "outputs": [
    {
     "data": {
      "text/plain": [
       "(394,)"
      ]
     },
     "execution_count": 36,
     "metadata": {},
     "output_type": "execute_result"
    }
   ],
   "source": [
    "y_test.shape"
   ]
  },
  {
   "cell_type": "markdown",
   "id": "f0cd7b97",
   "metadata": {},
   "source": [
    "**Creating Model**"
   ]
  },
  {
   "cell_type": "code",
   "execution_count": 37,
   "id": "0054a5a1",
   "metadata": {},
   "outputs": [
    {
     "name": "stdout",
     "output_type": "stream",
     "text": [
      "Model: \"sequential_2\"\n",
      "_________________________________________________________________\n",
      " Layer (type)                Output Shape              Param #   \n",
      "=================================================================\n",
      " conv2d_4 (Conv2D)           (None, 28, 28, 128)       3584      \n",
      "                                                                 \n",
      " max_pooling2d_4 (MaxPoolin  (None, 14, 14, 128)       0         \n",
      " g2D)                                                            \n",
      "                                                                 \n",
      " conv2d_5 (Conv2D)           (None, 14, 14, 96)        307296    \n",
      "                                                                 \n",
      " max_pooling2d_5 (MaxPoolin  (None, 7, 7, 96)          0         \n",
      " g2D)                                                            \n",
      "                                                                 \n",
      " flatten_2 (Flatten)         (None, 4704)              0         \n",
      "                                                                 \n",
      " dense_4 (Dense)             (None, 512)               2408960   \n",
      "                                                                 \n",
      " activation_2 (Activation)   (None, 512)               0         \n",
      "                                                                 \n",
      " dense_5 (Dense)             (None, 4)                 2052      \n",
      "                                                                 \n",
      "=================================================================\n",
      "Total params: 2721892 (10.38 MB)\n",
      "Trainable params: 2721892 (10.38 MB)\n",
      "Non-trainable params: 0 (0.00 Byte)\n",
      "_________________________________________________________________\n"
     ]
    }
   ],
   "source": [
    "import tensorflow as tf\n",
    "from tensorflow.keras.layers import Conv2D, MaxPooling2D, Flatten, Dense, Activation\n",
    "from tensorflow.keras.models import Sequential\n",
    "\n",
    "# Define the CNN model\n",
    "model = Sequential()\n",
    "\n",
    "# First convolutional layer\n",
    "model.add(Conv2D(filters=128,kernel_size=(3,3),padding='Same', activation='relu', input_shape=(IMG_SIZE,IMG_SIZE,3)))\n",
    "model.add(MaxPooling2D(pool_size=(2, 2)))\n",
    "\n",
    "# Second convolutional layer\n",
    "\n",
    "model.add(Conv2D(filters=96,kernel_size=(5,5),padding='Same', activation='relu'))\n",
    "model.add(MaxPooling2D(pool_size=(2, 2),strides=(2,2)))\n",
    "# # Third convolutional layer\n",
    "\n",
    "# model.add(Conv2D(filters=64,kernel_size=(3,3),padding='Same', activation='relu'))\n",
    "# model.add(MaxPooling2D(pool_size=(2, 2),strides=(2,2)))\n",
    "\n",
    "# # # # Fourth convolutional layer\n",
    "# model.add(Conv2D(filters=32,kernel_size=(3,3),padding='Same', activation='relu'))\n",
    "# model.add(MaxPooling2D(pool_size=(2, 2),strides=(2,2)))\n",
    "\n",
    "\n",
    "# Flatten the output from the convolutional layers\n",
    "model.add(Flatten())\n",
    "\n",
    "# Fully connected layers\n",
    "model.add(Dense(512))\n",
    "model.add(Activation('relu'))\n",
    "model.add(Dense(4, activation='softmax'))\n",
    "\n",
    "# Build the model\n",
    "model.build(input_shape=(None, 28, 28, 3))\n",
    "\n",
    "# Compile the model\n",
    "model.compile(optimizer=tf.keras.optimizers.Adam(learning_rate=0.002),\n",
    "              loss='sparse_categorical_crossentropy',\n",
    "              metrics=['accuracy'])\n",
    "\n",
    "# Print model summary\n",
    "model.summary()"
   ]
  },
  {
   "cell_type": "code",
   "execution_count": 40,
   "id": "e897a75b",
   "metadata": {},
   "outputs": [
    {
     "name": "stdout",
     "output_type": "stream",
     "text": [
      "Epoch 1/15\n",
      "45/45 [==============================] - 27s 592ms/step - loss: 0.8247 - accuracy: 0.6449 - val_loss: 1.6105 - val_accuracy: 0.4518\n",
      "Epoch 2/15\n",
      "45/45 [==============================] - 26s 589ms/step - loss: 0.7161 - accuracy: 0.7014 - val_loss: 1.6264 - val_accuracy: 0.4645\n",
      "Epoch 3/15\n",
      "45/45 [==============================] - 27s 597ms/step - loss: 0.6634 - accuracy: 0.7300 - val_loss: 1.5975 - val_accuracy: 0.5051\n",
      "Epoch 4/15\n",
      "45/45 [==============================] - 28s 624ms/step - loss: 0.6060 - accuracy: 0.7561 - val_loss: 1.4817 - val_accuracy: 0.5254\n",
      "Epoch 5/15\n",
      "45/45 [==============================] - 28s 615ms/step - loss: 0.4958 - accuracy: 0.8024 - val_loss: 1.5034 - val_accuracy: 0.5406\n",
      "Epoch 6/15\n",
      "45/45 [==============================] - 28s 623ms/step - loss: 0.4135 - accuracy: 0.8404 - val_loss: 1.9164 - val_accuracy: 0.5457\n",
      "Epoch 7/15\n",
      "45/45 [==============================] - 27s 610ms/step - loss: 0.3558 - accuracy: 0.8641 - val_loss: 1.9052 - val_accuracy: 0.6624\n",
      "Epoch 8/15\n",
      "45/45 [==============================] - 26s 586ms/step - loss: 0.3056 - accuracy: 0.8836 - val_loss: 2.2523 - val_accuracy: 0.6827\n",
      "Epoch 9/15\n",
      "45/45 [==============================] - 29s 640ms/step - loss: 0.2725 - accuracy: 0.8864 - val_loss: 2.1537 - val_accuracy: 0.6472\n",
      "Epoch 10/15\n",
      "45/45 [==============================] - 29s 645ms/step - loss: 0.2050 - accuracy: 0.9226 - val_loss: 3.1130 - val_accuracy: 0.6853\n",
      "Epoch 11/15\n",
      "45/45 [==============================] - 30s 659ms/step - loss: 0.1702 - accuracy: 0.9338 - val_loss: 2.9931 - val_accuracy: 0.7056\n",
      "Epoch 12/15\n",
      "45/45 [==============================] - 30s 670ms/step - loss: 0.1392 - accuracy: 0.9491 - val_loss: 2.7856 - val_accuracy: 0.7360\n",
      "Epoch 13/15\n",
      "45/45 [==============================] - 29s 641ms/step - loss: 0.0991 - accuracy: 0.9655 - val_loss: 3.8735 - val_accuracy: 0.6751\n",
      "Epoch 14/15\n",
      "45/45 [==============================] - 30s 669ms/step - loss: 0.1288 - accuracy: 0.9526 - val_loss: 3.1739 - val_accuracy: 0.7234\n",
      "Epoch 15/15\n",
      "45/45 [==============================] - 33s 743ms/step - loss: 0.1163 - accuracy: 0.9557 - val_loss: 3.2633 - val_accuracy: 0.7056\n"
     ]
    }
   ],
   "source": [
    "S=time.time()\n",
    "model.fit(x_train,y_train,epochs=15,batch_size=64,validation_data=(x_test,y_test))\n",
    "E=time.time()"
   ]
  },
  {
   "cell_type": "code",
   "execution_count": 41,
   "id": "8fc9fc23",
   "metadata": {},
   "outputs": [],
   "source": [
    "model.save('G:\\BrainTumor.h5')"
   ]
  },
  {
   "cell_type": "code",
   "execution_count": null,
   "id": "d1ccb8e0",
   "metadata": {},
   "outputs": [],
   "source": []
  }
 ],
 "metadata": {
  "kernelspec": {
   "display_name": "Python 3 (ipykernel)",
   "language": "python",
   "name": "python3"
  },
  "language_info": {
   "codemirror_mode": {
    "name": "ipython",
    "version": 3
   },
   "file_extension": ".py",
   "mimetype": "text/x-python",
   "name": "python",
   "nbconvert_exporter": "python",
   "pygments_lexer": "ipython3",
   "version": "3.11.3"
  }
 },
 "nbformat": 4,
 "nbformat_minor": 5
}
