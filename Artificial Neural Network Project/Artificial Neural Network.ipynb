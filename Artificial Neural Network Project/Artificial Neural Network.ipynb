{
 "cells": [
  {
   "cell_type": "code",
   "execution_count": 1,
   "id": "d4a6a164",
   "metadata": {},
   "outputs": [],
   "source": [
    "#importing libraries\n",
    "import numpy as np\n",
    "from tensorflow.keras.datasets import mnist\n",
    "from tensorflow.keras.models import Sequential\n",
    "from tensorflow.keras.layers import Dense\n",
    "import joblib\n",
    "import time\n",
    "from sklearn import datasets\n",
    "from sklearn.model_selection import train_test_split"
   ]
  },
  {
   "cell_type": "markdown",
   "id": "db1d527e",
   "metadata": {},
   "source": [
    "**Loading and Preparing Data**"
   ]
  },
  {
   "cell_type": "code",
   "execution_count": 61,
   "id": "83d213b6",
   "metadata": {},
   "outputs": [],
   "source": [
    "digits = datasets.load_digits()\n",
    "x, y = digits.data,digits.target\n"
   ]
  },
  {
   "cell_type": "code",
   "execution_count": 62,
   "id": "b0ae9189",
   "metadata": {},
   "outputs": [],
   "source": [
    "x_train,x_test,y_train,y_test=train_test_split(x,y,test_size=0.3,random_state=22)"
   ]
  },
  {
   "cell_type": "markdown",
   "id": "154892e7",
   "metadata": {},
   "source": [
    "**Building ANN Structres**"
   ]
  },
  {
   "cell_type": "code",
   "execution_count": 67,
   "id": "ba0c3a1e",
   "metadata": {},
   "outputs": [],
   "source": [
    "cnnmodel=Sequential([\n",
    "    Dense(128,activation='relu',input_shape=(64,)),\n",
    "    Dense(64,activation='relu'),\n",
    "    Dense(32,activation='relu'),\n",
    "    Dense(10,activation='softmax')])"
   ]
  },
  {
   "cell_type": "markdown",
   "id": "3120d5b2",
   "metadata": {},
   "source": [
    "**Compiling Model**"
   ]
  },
  {
   "cell_type": "code",
   "execution_count": 68,
   "id": "6c3e9a01",
   "metadata": {},
   "outputs": [],
   "source": [
    "cnnmodel.compile(optimizer='adam',loss='sparse_categorical_crossentropy',metrics=['accuracy'])"
   ]
  },
  {
   "cell_type": "markdown",
   "id": "7fd1c0a0",
   "metadata": {},
   "source": [
    "**Training Model**"
   ]
  },
  {
   "cell_type": "code",
   "execution_count": 69,
   "id": "969bdc5b",
   "metadata": {},
   "outputs": [
    {
     "name": "stdout",
     "output_type": "stream",
     "text": [
      "Epoch 1/5\n",
      "158/158 [==============================] - 2s 6ms/step - loss: 1.0656 - accuracy: 0.7176 - val_loss: 0.2446 - val_accuracy: 0.9333\n",
      "Epoch 2/5\n",
      "158/158 [==============================] - 1s 4ms/step - loss: 0.1989 - accuracy: 0.9348 - val_loss: 0.1633 - val_accuracy: 0.9500\n",
      "Epoch 3/5\n",
      "158/158 [==============================] - 1s 4ms/step - loss: 0.1415 - accuracy: 0.9594 - val_loss: 0.1489 - val_accuracy: 0.9630\n",
      "Epoch 4/5\n",
      "158/158 [==============================] - 1s 4ms/step - loss: 0.0708 - accuracy: 0.9793 - val_loss: 0.1596 - val_accuracy: 0.9556\n",
      "Epoch 5/5\n",
      "158/158 [==============================] - 1s 4ms/step - loss: 0.0554 - accuracy: 0.9809 - val_loss: 0.1844 - val_accuracy: 0.9574\n"
     ]
    }
   ],
   "source": [
    "S=time.time()\n",
    "cnnmodel.fit(x_train,y_train,epochs=5,batch_size=8,validation_data=(x_test,y_test))\n",
    "E=time.time()"
   ]
  },
  {
   "cell_type": "markdown",
   "id": "acab238a",
   "metadata": {},
   "source": [
    "**Evaluate Model**"
   ]
  },
  {
   "cell_type": "code",
   "execution_count": 70,
   "id": "f2550d17",
   "metadata": {},
   "outputs": [
    {
     "name": "stdout",
     "output_type": "stream",
     "text": [
      "17/17 [==============================] - 0s 4ms/step - loss: 0.1844 - accuracy: 0.9574\n",
      "Test accuracy:0.9574074149131775\n",
      "Total Time taken 4.841989278793335\n"
     ]
    }
   ],
   "source": [
    "test_loss,test_acc=cnnmodel.evaluate(x_test,y_test)\n",
    "print (f\"Test accuracy:{test_acc}\")\n",
    "print (\"Total Time taken\",E-S)"
   ]
  },
  {
   "cell_type": "markdown",
   "id": "30bd38ee",
   "metadata": {},
   "source": [
    "# By 3 layers and 8 Batch"
   ]
  },
  {
   "cell_type": "code",
   "execution_count": 71,
   "id": "8fcbe8f4",
   "metadata": {},
   "outputs": [
    {
     "name": "stdout",
     "output_type": "stream",
     "text": [
      "Epoch 1/5\n",
      "158/158 [==============================] - 1s 5ms/step - loss: 0.0533 - accuracy: 0.9825 - val_loss: 0.1176 - val_accuracy: 0.9685\n",
      "Epoch 2/5\n",
      "158/158 [==============================] - 1s 5ms/step - loss: 0.0232 - accuracy: 0.9944 - val_loss: 0.0958 - val_accuracy: 0.9759\n",
      "Epoch 3/5\n",
      "158/158 [==============================] - 1s 5ms/step - loss: 0.0085 - accuracy: 0.9992 - val_loss: 0.0829 - val_accuracy: 0.9759\n",
      "Epoch 4/5\n",
      "158/158 [==============================] - 1s 4ms/step - loss: 0.0029 - accuracy: 1.0000 - val_loss: 0.0868 - val_accuracy: 0.9796\n",
      "Epoch 5/5\n",
      "158/158 [==============================] - 1s 4ms/step - loss: 0.0022 - accuracy: 1.0000 - val_loss: 0.0871 - val_accuracy: 0.9778\n"
     ]
    }
   ],
   "source": [
    "S=time.time()\n",
    "cnnmodel.fit(x_train,y_train,epochs=5,batch_size=8,validation_data=(x_test,y_test))\n",
    "E=time.time()"
   ]
  },
  {
   "cell_type": "code",
   "execution_count": 72,
   "id": "43da88dc",
   "metadata": {},
   "outputs": [
    {
     "name": "stdout",
     "output_type": "stream",
     "text": [
      "17/17 [==============================] - 0s 5ms/step - loss: 0.0871 - accuracy: 0.9778\n",
      "Test accuracy:0.9777777791023254\n",
      "Total Time taken 3.7853121757507324\n"
     ]
    }
   ],
   "source": [
    "test_loss,test_acc=cnnmodel.evaluate(x_test,y_test)\n",
    "print (f\"Test accuracy:{test_acc}\")\n",
    "print (\"Total Time taken\",E-S)"
   ]
  },
  {
   "cell_type": "markdown",
   "id": "c09a58e9",
   "metadata": {},
   "source": [
    "# By 3 Layers and 16 Batch Size"
   ]
  },
  {
   "cell_type": "code",
   "execution_count": 77,
   "id": "f9b59c1d",
   "metadata": {},
   "outputs": [],
   "source": [
    "cnnmodel=Sequential([\n",
    "    Dense(64,activation='relu',input_shape=(64,)),\n",
    "    Dense(64,activation='relu'),\n",
    "    Dense(32,activation='relu'),\n",
    "    \n",
    "    Dense(10,activation='softmax')])"
   ]
  },
  {
   "cell_type": "code",
   "execution_count": 78,
   "id": "59f58fb2",
   "metadata": {},
   "outputs": [],
   "source": [
    "cnnmodel.compile(optimizer='adam',loss='sparse_categorical_crossentropy',metrics=['accuracy'])"
   ]
  },
  {
   "cell_type": "code",
   "execution_count": 79,
   "id": "f78889e4",
   "metadata": {},
   "outputs": [
    {
     "name": "stdout",
     "output_type": "stream",
     "text": [
      "Epoch 1/5\n",
      "79/79 [==============================] - 2s 8ms/step - loss: 1.7557 - accuracy: 0.5139 - val_loss: 0.7447 - val_accuracy: 0.7926\n",
      "Epoch 2/5\n",
      "79/79 [==============================] - 0s 4ms/step - loss: 0.4221 - accuracy: 0.8831 - val_loss: 0.3381 - val_accuracy: 0.9000\n",
      "Epoch 3/5\n",
      "79/79 [==============================] - 0s 4ms/step - loss: 0.2194 - accuracy: 0.9427 - val_loss: 0.2729 - val_accuracy: 0.9185\n",
      "Epoch 4/5\n",
      "79/79 [==============================] - 0s 4ms/step - loss: 0.1416 - accuracy: 0.9610 - val_loss: 0.1886 - val_accuracy: 0.9389\n",
      "Epoch 5/5\n",
      "79/79 [==============================] - 0s 4ms/step - loss: 0.0949 - accuracy: 0.9714 - val_loss: 0.1703 - val_accuracy: 0.9444\n"
     ]
    }
   ],
   "source": [
    "S=time.time()\n",
    "cnnmodel.fit(x_train,y_train,epochs=5,batch_size=16,validation_data=(x_test,y_test))\n",
    "E=time.time()"
   ]
  },
  {
   "cell_type": "code",
   "execution_count": 80,
   "id": "ec24a25e",
   "metadata": {},
   "outputs": [
    {
     "name": "stdout",
     "output_type": "stream",
     "text": [
      "17/17 [==============================] - 0s 3ms/step - loss: 0.1703 - accuracy: 0.9444\n",
      "Test accuracy:0.9444444179534912\n",
      "Total Time taken 3.380166530609131\n"
     ]
    }
   ],
   "source": [
    "test_loss,test_acc=cnnmodel.evaluate(x_test,y_test)\n",
    "print (f\"Test accuracy:{test_acc}\")\n",
    "print (\"Total Time taken\",E-S)"
   ]
  },
  {
   "cell_type": "markdown",
   "id": "05f51090",
   "metadata": {},
   "source": [
    "# Using 2 layers and 32 Batch Size"
   ]
  },
  {
   "cell_type": "code",
   "execution_count": 99,
   "id": "3330690c",
   "metadata": {},
   "outputs": [],
   "source": [
    "cnnmodel=Sequential([\n",
    "    Dense(64,activation='relu',input_shape=(64,)),\n",
    "    Dense(32,activation='relu'),\n",
    "    Dense(10,activation='softmax')])"
   ]
  },
  {
   "cell_type": "code",
   "execution_count": 100,
   "id": "df3731d2",
   "metadata": {},
   "outputs": [],
   "source": [
    "cnnmodel.compile(optimizer='adam',loss='sparse_categorical_crossentropy',metrics=['accuracy'])"
   ]
  },
  {
   "cell_type": "code",
   "execution_count": 101,
   "id": "f5c093df",
   "metadata": {},
   "outputs": [
    {
     "name": "stdout",
     "output_type": "stream",
     "text": [
      "Epoch 1/5\n",
      "40/40 [==============================] - 2s 12ms/step - loss: 2.7803 - accuracy: 0.2426 - val_loss: 1.2962 - val_accuracy: 0.5370\n",
      "Epoch 2/5\n",
      "40/40 [==============================] - 0s 5ms/step - loss: 0.9326 - accuracy: 0.7200 - val_loss: 0.6848 - val_accuracy: 0.7944\n",
      "Epoch 3/5\n",
      "40/40 [==============================] - 0s 4ms/step - loss: 0.5169 - accuracy: 0.8488 - val_loss: 0.4277 - val_accuracy: 0.8815\n",
      "Epoch 4/5\n",
      "40/40 [==============================] - 0s 5ms/step - loss: 0.3510 - accuracy: 0.9037 - val_loss: 0.3316 - val_accuracy: 0.9000\n",
      "Epoch 5/5\n",
      "40/40 [==============================] - 0s 5ms/step - loss: 0.2565 - accuracy: 0.9316 - val_loss: 0.2736 - val_accuracy: 0.9204\n"
     ]
    }
   ],
   "source": [
    "S=time.time()\n",
    "cnnmodel.fit(x_train,y_train,epochs=5,batch_size=32,validation_data=(x_test,y_test))\n",
    "E=time.time()"
   ]
  },
  {
   "cell_type": "code",
   "execution_count": 102,
   "id": "fc3eb88e",
   "metadata": {},
   "outputs": [
    {
     "name": "stdout",
     "output_type": "stream",
     "text": [
      "17/17 [==============================] - 0s 4ms/step - loss: 0.2736 - accuracy: 0.9204\n",
      "Test accuracy:0.9203703999519348\n",
      "Total Time taken 2.492894172668457\n"
     ]
    }
   ],
   "source": [
    "test_loss,test_acc=cnnmodel.evaluate(x_test,y_test)\n",
    "print (f\"Test accuracy:{test_acc}\")\n",
    "print (\"Total Time taken\",E-S)"
   ]
  },
  {
   "cell_type": "markdown",
   "id": "dcb3e156",
   "metadata": {},
   "source": [
    "# Using 2 layers and 64 Batch Size (128,64)"
   ]
  },
  {
   "cell_type": "code",
   "execution_count": 88,
   "id": "7897dee8",
   "metadata": {},
   "outputs": [],
   "source": [
    "cnnmodel=Sequential([\n",
    "    Dense(128,activation='relu',input_shape=(64,)),\n",
    "     Dense(64,activation='relu'),\n",
    "    Dense(10,activation='softmax')])"
   ]
  },
  {
   "cell_type": "code",
   "execution_count": 89,
   "id": "0f82c0d5",
   "metadata": {},
   "outputs": [],
   "source": [
    "cnnmodel.compile(optimizer='adam',loss='sparse_categorical_crossentropy',metrics=['accuracy'])"
   ]
  },
  {
   "cell_type": "code",
   "execution_count": 90,
   "id": "c10c4bf9",
   "metadata": {},
   "outputs": [
    {
     "name": "stdout",
     "output_type": "stream",
     "text": [
      "Epoch 1/5\n",
      "20/20 [==============================] - 1s 20ms/step - loss: 2.8224 - accuracy: 0.3461 - val_loss: 1.1505 - val_accuracy: 0.6352\n",
      "Epoch 2/5\n",
      "20/20 [==============================] - 0s 7ms/step - loss: 0.7262 - accuracy: 0.7772 - val_loss: 0.4749 - val_accuracy: 0.8407\n",
      "Epoch 3/5\n",
      "20/20 [==============================] - 0s 8ms/step - loss: 0.3302 - accuracy: 0.8926 - val_loss: 0.2929 - val_accuracy: 0.9185\n",
      "Epoch 4/5\n",
      "20/20 [==============================] - 0s 7ms/step - loss: 0.1982 - accuracy: 0.9459 - val_loss: 0.2292 - val_accuracy: 0.9315\n",
      "Epoch 5/5\n",
      "20/20 [==============================] - 0s 7ms/step - loss: 0.1372 - accuracy: 0.9706 - val_loss: 0.1948 - val_accuracy: 0.9426\n"
     ]
    }
   ],
   "source": [
    "S=time.time()\n",
    "cnnmodel.fit(x_train,y_train,epochs=5,batch_size=64,validation_data=(x_test,y_test))\n",
    "E=time.time()"
   ]
  },
  {
   "cell_type": "code",
   "execution_count": 91,
   "id": "fe555737",
   "metadata": {},
   "outputs": [
    {
     "name": "stdout",
     "output_type": "stream",
     "text": [
      "17/17 [==============================] - 0s 3ms/step - loss: 0.1948 - accuracy: 0.9426\n",
      "Test accuracy:0.9425926208496094\n",
      "Total Time taken 2.21528697013855\n"
     ]
    }
   ],
   "source": [
    "test_loss,test_acc=cnnmodel.evaluate(x_test,y_test)\n",
    "print (f\"Test accuracy:{test_acc}\")\n",
    "print (\"Total Time taken\",E-S)"
   ]
  },
  {
   "cell_type": "markdown",
   "id": "5aabd72d",
   "metadata": {},
   "source": [
    "# Using 1 layer and 128 Batch Size"
   ]
  },
  {
   "cell_type": "code",
   "execution_count": 95,
   "id": "0a83d4bd",
   "metadata": {},
   "outputs": [],
   "source": [
    "cnnmodel=Sequential([\n",
    "    Dense(32,activation='relu',input_shape=(64,)),\n",
    "    Dense(10,activation='softmax')])"
   ]
  },
  {
   "cell_type": "code",
   "execution_count": 96,
   "id": "52071443",
   "metadata": {},
   "outputs": [],
   "source": [
    "cnnmodel.compile(optimizer='adam',loss='sparse_categorical_crossentropy',metrics=['accuracy'])"
   ]
  },
  {
   "cell_type": "code",
   "execution_count": 97,
   "id": "8f2031a6",
   "metadata": {},
   "outputs": [
    {
     "name": "stdout",
     "output_type": "stream",
     "text": [
      "Epoch 1/5\n",
      "10/10 [==============================] - 2s 164ms/step - loss: 7.7418 - accuracy: 0.0772 - val_loss: 6.2558 - val_accuracy: 0.1648\n",
      "Epoch 2/5\n",
      "10/10 [==============================] - 0s 11ms/step - loss: 4.9660 - accuracy: 0.1846 - val_loss: 4.1456 - val_accuracy: 0.2444\n",
      "Epoch 3/5\n",
      "10/10 [==============================] - 0s 14ms/step - loss: 3.3761 - accuracy: 0.2506 - val_loss: 2.8485 - val_accuracy: 0.2852\n",
      "Epoch 4/5\n",
      "10/10 [==============================] - 0s 12ms/step - loss: 2.5268 - accuracy: 0.3317 - val_loss: 2.2360 - val_accuracy: 0.3796\n",
      "Epoch 5/5\n",
      "10/10 [==============================] - 0s 12ms/step - loss: 2.0578 - accuracy: 0.4169 - val_loss: 1.8898 - val_accuracy: 0.4519\n"
     ]
    }
   ],
   "source": [
    "S=time.time()\n",
    "cnnmodel.fit(x_train,y_train,epochs=5,batch_size=128,validation_data=(x_test,y_test))\n",
    "E=time.time()"
   ]
  },
  {
   "cell_type": "code",
   "execution_count": 98,
   "id": "a444e31f",
   "metadata": {},
   "outputs": [
    {
     "name": "stdout",
     "output_type": "stream",
     "text": [
      "17/17 [==============================] - 0s 3ms/step - loss: 1.8898 - accuracy: 0.4519\n",
      "Test accuracy:0.45185184478759766\n",
      "Total Time taken 2.9225964546203613\n"
     ]
    }
   ],
   "source": [
    "test_loss,test_acc=cnnmodel.evaluate(x_test,y_test)\n",
    "print (f\"Test accuracy:{test_acc}\")\n",
    "print (\"Total Time taken\",E-S)"
   ]
  },
  {
   "cell_type": "markdown",
   "id": "79ed2a22",
   "metadata": {},
   "source": [
    "# TABLE"
   ]
  },
  {
   "cell_type": "markdown",
   "id": "c0a1ccd5",
   "metadata": {},
   "source": [
    "|    | Header 1 | Header 2 | Header 3 |\n",
    "|ANN |----------|----------|----------|\n",
    "|    | Cell 1,1 | Cell 1,2 | Cell 1,3 |\n",
    "|    | Cell 2,1 | Cell 2,2 | Cell 2,3 |\n"
   ]
  },
  {
   "cell_type": "code",
   "execution_count": null,
   "id": "748d92d1",
   "metadata": {},
   "outputs": [],
   "source": []
  }
 ],
 "metadata": {
  "kernelspec": {
   "display_name": "Python 3 (ipykernel)",
   "language": "python",
   "name": "python3"
  },
  "language_info": {
   "codemirror_mode": {
    "name": "ipython",
    "version": 3
   },
   "file_extension": ".py",
   "mimetype": "text/x-python",
   "name": "python",
   "nbconvert_exporter": "python",
   "pygments_lexer": "ipython3",
   "version": "3.11.3"
  }
 },
 "nbformat": 4,
 "nbformat_minor": 5
}
